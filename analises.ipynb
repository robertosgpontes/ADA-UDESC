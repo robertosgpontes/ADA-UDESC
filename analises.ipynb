{
 "cells": [
  {
   "cell_type": "code",
   "execution_count": 66,
   "metadata": {},
   "outputs": [],
   "source": [
    "import pandas as pd\n",
    "import seaborn as sns\n",
    "import matplotlib.pyplot as plt\n",
    "import plotly.express as px\n",
    "from wordcloud import WordCloud, STOPWORDS"
   ]
  },
  {
   "cell_type": "code",
   "execution_count": null,
   "metadata": {},
   "outputs": [],
   "source": [
    "from ydata_profiling import ProfileReport"
   ]
  },
  {
   "cell_type": "code",
   "execution_count": 24,
   "metadata": {},
   "outputs": [],
   "source": [
    "%matplotlib inline"
   ]
  },
  {
   "cell_type": "code",
   "execution_count": 14,
   "metadata": {},
   "outputs": [],
   "source": [
    "dados = pd.read_csv('dados.csv')"
   ]
  },
  {
   "cell_type": "code",
   "execution_count": 15,
   "metadata": {},
   "outputs": [
    {
     "data": {
      "text/html": [
       "<div>\n",
       "<style scoped>\n",
       "    .dataframe tbody tr th:only-of-type {\n",
       "        vertical-align: middle;\n",
       "    }\n",
       "\n",
       "    .dataframe tbody tr th {\n",
       "        vertical-align: top;\n",
       "    }\n",
       "\n",
       "    .dataframe thead th {\n",
       "        text-align: right;\n",
       "    }\n",
       "</style>\n",
       "<table border=\"1\" class=\"dataframe\">\n",
       "  <thead>\n",
       "    <tr style=\"text-align: right;\">\n",
       "      <th></th>\n",
       "      <th>sexo</th>\n",
       "      <th>graduation_course</th>\n",
       "      <th>programming_knowledge</th>\n",
       "      <th>altura</th>\n",
       "      <th>idade</th>\n",
       "    </tr>\n",
       "  </thead>\n",
       "  <tbody>\n",
       "    <tr>\n",
       "      <th>0</th>\n",
       "      <td>M</td>\n",
       "      <td>CIÊNCIA DA COMPUTAÇÃO</td>\n",
       "      <td>Programo várias linguagens ou trabalhei com pr...</td>\n",
       "      <td>169</td>\n",
       "      <td>23</td>\n",
       "    </tr>\n",
       "    <tr>\n",
       "      <th>1</th>\n",
       "      <td>M</td>\n",
       "      <td>TADS</td>\n",
       "      <td>Já programei um pouco seguindo alguns tutoriais</td>\n",
       "      <td>165</td>\n",
       "      <td>21</td>\n",
       "    </tr>\n",
       "    <tr>\n",
       "      <th>2</th>\n",
       "      <td>M</td>\n",
       "      <td>CIÊNCIA DA COMPUTAÇÃO</td>\n",
       "      <td>Já programei um pouco seguindo alguns tutoriais</td>\n",
       "      <td>168</td>\n",
       "      <td>33</td>\n",
       "    </tr>\n",
       "    <tr>\n",
       "      <th>3</th>\n",
       "      <td>M</td>\n",
       "      <td>CIÊNCIA DA COMPUTAÇÃO</td>\n",
       "      <td>Já programei um pouco seguindo alguns tutoriais</td>\n",
       "      <td>166</td>\n",
       "      <td>24</td>\n",
       "    </tr>\n",
       "    <tr>\n",
       "      <th>4</th>\n",
       "      <td>M</td>\n",
       "      <td>TECNOLOGIA EM ANÁLISE E DESENVOLVIMENTO DE SIS...</td>\n",
       "      <td>Já programei uma linguagem de programação</td>\n",
       "      <td>168</td>\n",
       "      <td>22</td>\n",
       "    </tr>\n",
       "    <tr>\n",
       "      <th>...</th>\n",
       "      <td>...</td>\n",
       "      <td>...</td>\n",
       "      <td>...</td>\n",
       "      <td>...</td>\n",
       "      <td>...</td>\n",
       "    </tr>\n",
       "    <tr>\n",
       "      <th>75</th>\n",
       "      <td>F</td>\n",
       "      <td>CIÊNCIA DA COMPUTAÇÃO</td>\n",
       "      <td>Já programei um pouco seguindo alguns tutoriais</td>\n",
       "      <td>167</td>\n",
       "      <td>17</td>\n",
       "    </tr>\n",
       "    <tr>\n",
       "      <th>76</th>\n",
       "      <td>M</td>\n",
       "      <td>ENGENHARIA DA COMPUTAÇÃO</td>\n",
       "      <td>Programo várias linguagens ou trabalhei com pr...</td>\n",
       "      <td>167</td>\n",
       "      <td>22</td>\n",
       "    </tr>\n",
       "    <tr>\n",
       "      <th>77</th>\n",
       "      <td>M</td>\n",
       "      <td>CIÊNCIA DA COMPUTAÇÃO</td>\n",
       "      <td>Já programei uma linguagem de programação</td>\n",
       "      <td>168</td>\n",
       "      <td>22</td>\n",
       "    </tr>\n",
       "    <tr>\n",
       "      <th>78</th>\n",
       "      <td>M</td>\n",
       "      <td>TADS</td>\n",
       "      <td>Programo várias linguagens ou trabalhei com pr...</td>\n",
       "      <td>165</td>\n",
       "      <td>20</td>\n",
       "    </tr>\n",
       "    <tr>\n",
       "      <th>79</th>\n",
       "      <td>M</td>\n",
       "      <td>NÃO SE APLICA</td>\n",
       "      <td>Programo várias linguagens ou trabalhei com pr...</td>\n",
       "      <td>166</td>\n",
       "      <td>26</td>\n",
       "    </tr>\n",
       "  </tbody>\n",
       "</table>\n",
       "<p>80 rows × 5 columns</p>\n",
       "</div>"
      ],
      "text/plain": [
       "   sexo                                  graduation_course  \\\n",
       "0     M                              CIÊNCIA DA COMPUTAÇÃO   \n",
       "1     M                                               TADS   \n",
       "2     M                              CIÊNCIA DA COMPUTAÇÃO   \n",
       "3     M                              CIÊNCIA DA COMPUTAÇÃO   \n",
       "4     M  TECNOLOGIA EM ANÁLISE E DESENVOLVIMENTO DE SIS...   \n",
       "..  ...                                                ...   \n",
       "75    F                              CIÊNCIA DA COMPUTAÇÃO   \n",
       "76    M                           ENGENHARIA DA COMPUTAÇÃO   \n",
       "77    M                              CIÊNCIA DA COMPUTAÇÃO   \n",
       "78    M                                               TADS   \n",
       "79    M                                      NÃO SE APLICA   \n",
       "\n",
       "                                programming_knowledge  altura  idade  \n",
       "0   Programo várias linguagens ou trabalhei com pr...     169     23  \n",
       "1     Já programei um pouco seguindo alguns tutoriais     165     21  \n",
       "2     Já programei um pouco seguindo alguns tutoriais     168     33  \n",
       "3     Já programei um pouco seguindo alguns tutoriais     166     24  \n",
       "4           Já programei uma linguagem de programação     168     22  \n",
       "..                                                ...     ...    ...  \n",
       "75    Já programei um pouco seguindo alguns tutoriais     167     17  \n",
       "76  Programo várias linguagens ou trabalhei com pr...     167     22  \n",
       "77          Já programei uma linguagem de programação     168     22  \n",
       "78  Programo várias linguagens ou trabalhei com pr...     165     20  \n",
       "79  Programo várias linguagens ou trabalhei com pr...     166     26  \n",
       "\n",
       "[80 rows x 5 columns]"
      ]
     },
     "execution_count": 15,
     "metadata": {},
     "output_type": "execute_result"
    }
   ],
   "source": [
    "dados"
   ]
  },
  {
   "cell_type": "code",
   "execution_count": 16,
   "metadata": {},
   "outputs": [
    {
     "name": "stdout",
     "output_type": "stream",
     "text": [
      "<class 'pandas.core.frame.DataFrame'>\n",
      "RangeIndex: 80 entries, 0 to 79\n",
      "Data columns (total 5 columns):\n",
      " #   Column                 Non-Null Count  Dtype \n",
      "---  ------                 --------------  ----- \n",
      " 0   sexo                   80 non-null     object\n",
      " 1   graduation_course      80 non-null     object\n",
      " 2   programming_knowledge  80 non-null     object\n",
      " 3   altura                 80 non-null     int64 \n",
      " 4   idade                  80 non-null     int64 \n",
      "dtypes: int64(2), object(3)\n",
      "memory usage: 3.2+ KB\n"
     ]
    }
   ],
   "source": [
    "dados.info()"
   ]
  },
  {
   "cell_type": "code",
   "execution_count": 17,
   "metadata": {},
   "outputs": [
    {
     "data": {
      "text/html": [
       "<div>\n",
       "<style scoped>\n",
       "    .dataframe tbody tr th:only-of-type {\n",
       "        vertical-align: middle;\n",
       "    }\n",
       "\n",
       "    .dataframe tbody tr th {\n",
       "        vertical-align: top;\n",
       "    }\n",
       "\n",
       "    .dataframe thead th {\n",
       "        text-align: right;\n",
       "    }\n",
       "</style>\n",
       "<table border=\"1\" class=\"dataframe\">\n",
       "  <thead>\n",
       "    <tr style=\"text-align: right;\">\n",
       "      <th></th>\n",
       "      <th>altura</th>\n",
       "      <th>idade</th>\n",
       "    </tr>\n",
       "  </thead>\n",
       "  <tbody>\n",
       "    <tr>\n",
       "      <th>count</th>\n",
       "      <td>80.000000</td>\n",
       "      <td>80.000000</td>\n",
       "    </tr>\n",
       "    <tr>\n",
       "      <th>mean</th>\n",
       "      <td>167.550000</td>\n",
       "      <td>24.137500</td>\n",
       "    </tr>\n",
       "    <tr>\n",
       "      <th>std</th>\n",
       "      <td>1.875222</td>\n",
       "      <td>4.838516</td>\n",
       "    </tr>\n",
       "    <tr>\n",
       "      <th>min</th>\n",
       "      <td>163.000000</td>\n",
       "      <td>16.000000</td>\n",
       "    </tr>\n",
       "    <tr>\n",
       "      <th>25%</th>\n",
       "      <td>166.750000</td>\n",
       "      <td>21.000000</td>\n",
       "    </tr>\n",
       "    <tr>\n",
       "      <th>50%</th>\n",
       "      <td>167.000000</td>\n",
       "      <td>24.000000</td>\n",
       "    </tr>\n",
       "    <tr>\n",
       "      <th>75%</th>\n",
       "      <td>169.000000</td>\n",
       "      <td>26.250000</td>\n",
       "    </tr>\n",
       "    <tr>\n",
       "      <th>max</th>\n",
       "      <td>172.000000</td>\n",
       "      <td>36.000000</td>\n",
       "    </tr>\n",
       "  </tbody>\n",
       "</table>\n",
       "</div>"
      ],
      "text/plain": [
       "           altura      idade\n",
       "count   80.000000  80.000000\n",
       "mean   167.550000  24.137500\n",
       "std      1.875222   4.838516\n",
       "min    163.000000  16.000000\n",
       "25%    166.750000  21.000000\n",
       "50%    167.000000  24.000000\n",
       "75%    169.000000  26.250000\n",
       "max    172.000000  36.000000"
      ]
     },
     "execution_count": 17,
     "metadata": {},
     "output_type": "execute_result"
    }
   ],
   "source": [
    "dados.describe()"
   ]
  },
  {
   "cell_type": "code",
   "execution_count": 18,
   "metadata": {},
   "outputs": [
    {
     "data": {
      "text/html": [
       "<div>\n",
       "<style scoped>\n",
       "    .dataframe tbody tr th:only-of-type {\n",
       "        vertical-align: middle;\n",
       "    }\n",
       "\n",
       "    .dataframe tbody tr th {\n",
       "        vertical-align: top;\n",
       "    }\n",
       "\n",
       "    .dataframe thead th {\n",
       "        text-align: right;\n",
       "    }\n",
       "</style>\n",
       "<table border=\"1\" class=\"dataframe\">\n",
       "  <thead>\n",
       "    <tr style=\"text-align: right;\">\n",
       "      <th></th>\n",
       "      <th>sexo</th>\n",
       "      <th>graduation_course</th>\n",
       "      <th>programming_knowledge</th>\n",
       "      <th>altura</th>\n",
       "      <th>idade</th>\n",
       "    </tr>\n",
       "  </thead>\n",
       "  <tbody>\n",
       "    <tr>\n",
       "      <th>count</th>\n",
       "      <td>80</td>\n",
       "      <td>80</td>\n",
       "      <td>80</td>\n",
       "      <td>80.000000</td>\n",
       "      <td>80.000000</td>\n",
       "    </tr>\n",
       "    <tr>\n",
       "      <th>unique</th>\n",
       "      <td>2</td>\n",
       "      <td>25</td>\n",
       "      <td>5</td>\n",
       "      <td>NaN</td>\n",
       "      <td>NaN</td>\n",
       "    </tr>\n",
       "    <tr>\n",
       "      <th>top</th>\n",
       "      <td>M</td>\n",
       "      <td>CIÊNCIA DA COMPUTAÇÃO</td>\n",
       "      <td>Já programei uma linguagem de programação</td>\n",
       "      <td>NaN</td>\n",
       "      <td>NaN</td>\n",
       "    </tr>\n",
       "    <tr>\n",
       "      <th>freq</th>\n",
       "      <td>51</td>\n",
       "      <td>24</td>\n",
       "      <td>28</td>\n",
       "      <td>NaN</td>\n",
       "      <td>NaN</td>\n",
       "    </tr>\n",
       "    <tr>\n",
       "      <th>mean</th>\n",
       "      <td>NaN</td>\n",
       "      <td>NaN</td>\n",
       "      <td>NaN</td>\n",
       "      <td>167.550000</td>\n",
       "      <td>24.137500</td>\n",
       "    </tr>\n",
       "    <tr>\n",
       "      <th>std</th>\n",
       "      <td>NaN</td>\n",
       "      <td>NaN</td>\n",
       "      <td>NaN</td>\n",
       "      <td>1.875222</td>\n",
       "      <td>4.838516</td>\n",
       "    </tr>\n",
       "    <tr>\n",
       "      <th>min</th>\n",
       "      <td>NaN</td>\n",
       "      <td>NaN</td>\n",
       "      <td>NaN</td>\n",
       "      <td>163.000000</td>\n",
       "      <td>16.000000</td>\n",
       "    </tr>\n",
       "    <tr>\n",
       "      <th>25%</th>\n",
       "      <td>NaN</td>\n",
       "      <td>NaN</td>\n",
       "      <td>NaN</td>\n",
       "      <td>166.750000</td>\n",
       "      <td>21.000000</td>\n",
       "    </tr>\n",
       "    <tr>\n",
       "      <th>50%</th>\n",
       "      <td>NaN</td>\n",
       "      <td>NaN</td>\n",
       "      <td>NaN</td>\n",
       "      <td>167.000000</td>\n",
       "      <td>24.000000</td>\n",
       "    </tr>\n",
       "    <tr>\n",
       "      <th>75%</th>\n",
       "      <td>NaN</td>\n",
       "      <td>NaN</td>\n",
       "      <td>NaN</td>\n",
       "      <td>169.000000</td>\n",
       "      <td>26.250000</td>\n",
       "    </tr>\n",
       "    <tr>\n",
       "      <th>max</th>\n",
       "      <td>NaN</td>\n",
       "      <td>NaN</td>\n",
       "      <td>NaN</td>\n",
       "      <td>172.000000</td>\n",
       "      <td>36.000000</td>\n",
       "    </tr>\n",
       "  </tbody>\n",
       "</table>\n",
       "</div>"
      ],
      "text/plain": [
       "       sexo      graduation_course                      programming_knowledge  \\\n",
       "count    80                     80                                         80   \n",
       "unique    2                     25                                          5   \n",
       "top       M  CIÊNCIA DA COMPUTAÇÃO  Já programei uma linguagem de programação   \n",
       "freq     51                     24                                         28   \n",
       "mean    NaN                    NaN                                        NaN   \n",
       "std     NaN                    NaN                                        NaN   \n",
       "min     NaN                    NaN                                        NaN   \n",
       "25%     NaN                    NaN                                        NaN   \n",
       "50%     NaN                    NaN                                        NaN   \n",
       "75%     NaN                    NaN                                        NaN   \n",
       "max     NaN                    NaN                                        NaN   \n",
       "\n",
       "            altura      idade  \n",
       "count    80.000000  80.000000  \n",
       "unique         NaN        NaN  \n",
       "top            NaN        NaN  \n",
       "freq           NaN        NaN  \n",
       "mean    167.550000  24.137500  \n",
       "std       1.875222   4.838516  \n",
       "min     163.000000  16.000000  \n",
       "25%     166.750000  21.000000  \n",
       "50%     167.000000  24.000000  \n",
       "75%     169.000000  26.250000  \n",
       "max     172.000000  36.000000  "
      ]
     },
     "execution_count": 18,
     "metadata": {},
     "output_type": "execute_result"
    }
   ],
   "source": [
    "dados.describe(include='all')"
   ]
  },
  {
   "cell_type": "code",
   "execution_count": 19,
   "metadata": {},
   "outputs": [
    {
     "data": {
      "application/vnd.jupyter.widget-view+json": {
       "model_id": "6261f4cd91634a07b652815d29a6f01d",
       "version_major": 2,
       "version_minor": 0
      },
      "text/plain": [
       "Summarize dataset:   0%|          | 0/5 [00:00<?, ?it/s]"
      ]
     },
     "metadata": {},
     "output_type": "display_data"
    },
    {
     "data": {
      "application/vnd.jupyter.widget-view+json": {
       "model_id": "caf33b92aae948b6ba161c573b612396",
       "version_major": 2,
       "version_minor": 0
      },
      "text/plain": [
       "Generate report structure:   0%|          | 0/1 [00:00<?, ?it/s]"
      ]
     },
     "metadata": {},
     "output_type": "display_data"
    },
    {
     "data": {
      "application/vnd.jupyter.widget-view+json": {
       "model_id": "a719ecb32f2f42f8aa869ac8481c9201",
       "version_major": 2,
       "version_minor": 0
      },
      "text/plain": [
       "Render widgets:   0%|          | 0/1 [00:00<?, ?it/s]"
      ]
     },
     "metadata": {},
     "output_type": "display_data"
    },
    {
     "data": {
      "application/vnd.jupyter.widget-view+json": {
       "model_id": "a17c349b5c0e47a6884c50a3fe0abc2d",
       "version_major": 2,
       "version_minor": 0
      },
      "text/plain": [
       "VBox(children=(Tab(children=(Tab(children=(GridBox(children=(VBox(children=(GridspecLayout(children=(HTML(valu…"
      ]
     },
     "metadata": {},
     "output_type": "display_data"
    }
   ],
   "source": [
    "# https://github.com/mstaniak/autoEDA-resources\n",
    "\n",
    "\n",
    "profile = ProfileReport(dados, title=\"Profiling Report\")\n",
    "\n",
    "profile.to_widgets()"
   ]
  },
  {
   "cell_type": "code",
   "execution_count": 25,
   "metadata": {},
   "outputs": [
    {
     "data": {
      "image/png": "[encoded data removed]",
      "text/plain": [
       "<Figure size 640x480 with 1 Axes>"
      ]
     },
     "metadata": {},
     "output_type": "display_data"
    }
   ],
   "source": [
    "# Criar o boxplot usando o Seaborn\n",
    "sns.boxplot(x='sexo', y='idade', data=dados)\n",
    "plt.show()"
   ]
  },
  {
   "attachments": {},
   "cell_type": "markdown",
   "metadata": {},
   "source": [
    "\\begin{align*}\n",
    "\\text{Limite Inferior} &= Q_1 - 1.5 \\times IQR \\\\\n",
    "\\text{Limite Superior} &= Q_3 + 1.5 \\times IQR \\\\\n",
    "\\text{Mediana} &= Q_2 \\\\\n",
    "\\text{IQR} &= Q_3 - Q_1 \\\\\n",
    "\\text{Outliers} &= \\text{Observações fora do intervalo } [\\text{Limite Inferior}, \\text{Limite Superior}]\n",
    "\\end{align*}\n",
    "\n",
    "Onde $Q_1$, $Q_2$, e $Q_3$ são os três quartis do conjunto de dados, $IQR$ é a amplitude interquartil e os outliers são as observações que estão fora do intervalo definido pelos limites inferior e superior."
   ]
  },
  {
   "cell_type": "code",
   "execution_count": 34,
   "metadata": {},
   "outputs": [
    {
     "data": {
      "image/png": "[encoded data removed]",
      "text/plain": [
       "<Figure size 640x480 with 1 Axes>"
      ]
     },
     "metadata": {},
     "output_type": "display_data"
    }
   ],
   "source": [
    "sns.set_style(\"white\")\n",
    "\n",
    "palette = {\"F\": \"#e9fbcf\", \"M\": \"#ccf892\"}\n",
    "\n",
    "sns.boxplot(x=\"sexo\", y=\"idade\", data=dados, palette=palette, whis=1.5,  width=0.5)\n",
    "sns.despine(right=True, top=True)\n",
    "\n",
    "plt.xlabel(\"Sexo\")\n",
    "plt.ylabel(\"Idade\")\n",
    "plt.title(\"Distribuição de Idade por Sexo\")\n",
    "\n",
    "plt.show()"
   ]
  },
  {
   "cell_type": "code",
   "execution_count": 55,
   "metadata": {},
   "outputs": [
    {
     "data": {
      "image/png": "[encoded data removed]",
      "text/plain": [
       "<Figure size 640x480 with 1 Axes>"
      ]
     },
     "metadata": {},
     "output_type": "display_data"
    }
   ],
   "source": [
    "ax = sns.histplot(data=dados, x='idade', bins=10, color='#ccf892', kde=True)\n",
    "ax.lines[0].set_color('#36491f')"
   ]
  },
  {
   "cell_type": "code",
   "execution_count": 62,
   "metadata": {},
   "outputs": [
    {
     "data": {
      "image/png": "[encoded data removed]",
      "text/plain": [
       "<Figure size 1000x500 with 2 Axes>"
      ]
     },
     "metadata": {},
     "output_type": "display_data"
    }
   ],
   "source": [
    "# Crie uma figura com duas subplots lado a lado\n",
    "fig, axs = plt.subplots(ncols=2, figsize=(10, 5))\n",
    "\n",
    "# Crie o histograma da altura para homens na primeira subplot\n",
    "sns.histplot(data=dados[dados['sexo'] == 'M'], x='altura', bins=5, kde=True, color='#ccf892', ax=axs[0])\n",
    "axs[0].set(title='Homens', xlabel='Altura', ylabel='Frequência')\n",
    "axs[0].lines[0].set_color('#36491f')\n",
    "\n",
    "# Crie o histograma da altura para mulheres na segunda subplot\n",
    "sns.histplot(data=dados[dados['sexo'] == 'F'], x='altura', bins=5, kde=True, color='#ccf892', ax=axs[1])\n",
    "axs[1].set(title='Mulheres', xlabel='Altura', ylabel='Frequência')\n",
    "axs[1].lines[0].set_color('#36491f')\n",
    "\n",
    "# Exiba o histograma\n",
    "plt.show()"
   ]
  },
  {
   "cell_type": "code",
   "execution_count": 77,
   "metadata": {},
   "outputs": [
    {
     "name": "stderr",
     "output_type": "stream",
     "text": [
      "[nltk_data] Downloading package stopwords to\n",
      "[nltk_data]     /home/roberto/nltk_data...\n",
      "[nltk_data]   Package stopwords is already up-to-date!\n"
     ]
    },
    {
     "data": {
      "application/vnd.plotly.v1+json": {
       "config": {
        "plotlyServerURL": "https://plot.ly"
       },
       "data": [
        {
         "hovertemplate": "x: %{x}<br>y: %{y}<br>color: [%{z[0]}, %{z[1]}, %{z[2]}]<extra></extra>",
         "name": "0",
         "source": "data:image/png;base64,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",
         "type": "image",
         "xaxis": "x",
         "yaxis": "y"
        }
       ],
       "layout": {
        "margin": {
         "t": 60
        },
        "template": {
         "data": {
          "bar": [
           {
            "error_x": {
             "color": "#2a3f5f"
            },
            "error_y": {
             "color": "#2a3f5f"
            },
            "marker": {
             "line": {
              "color": "#E5ECF6",
              "width": 0.5
             },
             "pattern": {
              "fillmode": "overlay",
              "size": 10,
              "solidity": 0.2
             }
            },
            "type": "bar"
           }
          ],
          "barpolar": [
           {
            "marker": {
             "line": {
              "color": "#E5ECF6",
              "width": 0.5
             },
             "pattern": {
              "fillmode": "overlay",
              "size": 10,
              "solidity": 0.2
             }
            },
            "type": "barpolar"
           }
          ],
          "carpet": [
           {
            "aaxis": {
             "endlinecolor": "#2a3f5f",
             "gridcolor": "white",
             "linecolor": "white",
             "minorgridcolor": "white",
             "startlinecolor": "#2a3f5f"
            },
            "baxis": {
             "endlinecolor": "#2a3f5f",
             "gridcolor": "white",
             "linecolor": "white",
             "minorgridcolor": "white",
             "startlinecolor": "#2a3f5f"
            },
            "type": "carpet"
           }
          ],
          "choropleth": [
           {
            "colorbar": {
             "outlinewidth": 0,
             "ticks": ""
            },
            "type": "choropleth"
           }
          ],
          "contour": [
           {
            "colorbar": {
             "outlinewidth": 0,
             "ticks": ""
            },
            "colorscale": [
             [
              0,
              "#0d0887"
             ],
             [
              0.1111111111111111,
              "#46039f"
             ],
             [
              0.2222222222222222,
              "#7201a8"
             ],
             [
              0.3333333333333333,
              "#9c179e"
             ],
             [
              0.4444444444444444,
              "#bd3786"
             ],
             [
              0.5555555555555556,
              "#d8576b"
             ],
             [
              0.6666666666666666,
              "#ed7953"
             ],
             [
              0.7777777777777778,
              "#fb9f3a"
             ],
             [
              0.8888888888888888,
              "#fdca26"
             ],
             [
              1,
              "#f0f921"
             ]
            ],
            "type": "contour"
           }
          ],
          "contourcarpet": [
           {
            "colorbar": {
             "outlinewidth": 0,
             "ticks": ""
            },
            "type": "contourcarpet"
           }
          ],
          "heatmap": [
           {
            "colorbar": {
             "outlinewidth": 0,
             "ticks": ""
            },
            "colorscale": [
             [
              0,
              "#0d0887"
             ],
             [
              0.1111111111111111,
              "#46039f"
             ],
             [
              0.2222222222222222,
              "#7201a8"
             ],
             [
              0.3333333333333333,
              "#9c179e"
             ],
             [
              0.4444444444444444,
              "#bd3786"
             ],
             [
              0.5555555555555556,
              "#d8576b"
             ],
             [
              0.6666666666666666,
              "#ed7953"
             ],
             [
              0.7777777777777778,
              "#fb9f3a"
             ],
             [
              0.8888888888888888,
              "#fdca26"
             ],
             [
              1,
              "#f0f921"
             ]
            ],
            "type": "heatmap"
           }
          ],
          "heatmapgl": [
           {
            "colorbar": {
             "outlinewidth": 0,
             "ticks": ""
            },
            "colorscale": [
             [
              0,
              "#0d0887"
             ],
             [
              0.1111111111111111,
              "#46039f"
             ],
             [
              0.2222222222222222,
              "#7201a8"
             ],
             [
              0.3333333333333333,
              "#9c179e"
             ],
             [
              0.4444444444444444,
              "#bd3786"
             ],
             [
              0.5555555555555556,
              "#d8576b"
             ],
             [
              0.6666666666666666,
              "#ed7953"
             ],
             [
              0.7777777777777778,
              "#fb9f3a"
             ],
             [
              0.8888888888888888,
              "#fdca26"
             ],
             [
              1,
              "#f0f921"
             ]
            ],
            "type": "heatmapgl"
           }
          ],
          "histogram": [
           {
            "marker": {
             "pattern": {
              "fillmode": "overlay",
              "size": 10,
              "solidity": 0.2
             }
            },
            "type": "histogram"
           }
          ],
          "histogram2d": [
           {
            "colorbar": {
             "outlinewidth": 0,
             "ticks": ""
            },
            "colorscale": [
             [
              0,
              "#0d0887"
             ],
             [
              0.1111111111111111,
              "#46039f"
             ],
             [
              0.2222222222222222,
              "#7201a8"
             ],
             [
              0.3333333333333333,
              "#9c179e"
             ],
             [
              0.4444444444444444,
              "#bd3786"
             ],
             [
              0.5555555555555556,
              "#d8576b"
             ],
             [
              0.6666666666666666,
              "#ed7953"
             ],
             [
              0.7777777777777778,
              "#fb9f3a"
             ],
             [
              0.8888888888888888,
              "#fdca26"
             ],
             [
              1,
              "#f0f921"
             ]
            ],
            "type": "histogram2d"
           }
          ],
          "histogram2dcontour": [
           {
            "colorbar": {
             "outlinewidth": 0,
             "ticks": ""
            },
            "colorscale": [
             [
              0,
              "#0d0887"
             ],
             [
              0.1111111111111111,
              "#46039f"
             ],
             [
              0.2222222222222222,
              "#7201a8"
             ],
             [
              0.3333333333333333,
              "#9c179e"
             ],
             [
              0.4444444444444444,
              "#bd3786"
             ],
             [
              0.5555555555555556,
              "#d8576b"
             ],
             [
              0.6666666666666666,
              "#ed7953"
             ],
             [
              0.7777777777777778,
              "#fb9f3a"
             ],
             [
              0.8888888888888888,
              "#fdca26"
             ],
             [
              1,
              "#f0f921"
             ]
            ],
            "type": "histogram2dcontour"
           }
          ],
          "mesh3d": [
           {
            "colorbar": {
             "outlinewidth": 0,
             "ticks": ""
            },
            "type": "mesh3d"
           }
          ],
          "parcoords": [
           {
            "line": {
             "colorbar": {
              "outlinewidth": 0,
              "ticks": ""
             }
            },
            "type": "parcoords"
           }
          ],
          "pie": [
           {
            "automargin": true,
            "type": "pie"
           }
          ],
          "scatter": [
           {
            "fillpattern": {
             "fillmode": "overlay",
             "size": 10,
             "solidity": 0.2
            },
            "type": "scatter"
           }
          ],
          "scatter3d": [
           {
            "line": {
             "colorbar": {
              "outlinewidth": 0,
              "ticks": ""
             }
            },
            "marker": {
             "colorbar": {
              "outlinewidth": 0,
              "ticks": ""
             }
            },
            "type": "scatter3d"
           }
          ],
          "scattercarpet": [
           {
            "marker": {
             "colorbar": {
              "outlinewidth": 0,
              "ticks": ""
             }
            },
            "type": "scattercarpet"
           }
          ],
          "scattergeo": [
           {
            "marker": {
             "colorbar": {
              "outlinewidth": 0,
              "ticks": ""
             }
            },
            "type": "scattergeo"
           }
          ],
          "scattergl": [
           {
            "marker": {
             "colorbar": {
              "outlinewidth": 0,
              "ticks": ""
             }
            },
            "type": "scattergl"
           }
          ],
          "scattermapbox": [
           {
            "marker": {
             "colorbar": {
              "outlinewidth": 0,
              "ticks": ""
             }
            },
            "type": "scattermapbox"
           }
          ],
          "scatterpolar": [
           {
            "marker": {
             "colorbar": {
              "outlinewidth": 0,
              "ticks": ""
             }
            },
            "type": "scatterpolar"
           }
          ],
          "scatterpolargl": [
           {
            "marker": {
             "colorbar": {
              "outlinewidth": 0,
              "ticks": ""
             }
            },
            "type": "scatterpolargl"
           }
          ],
          "scatterternary": [
           {
            "marker": {
             "colorbar": {
              "outlinewidth": 0,
              "ticks": ""
             }
            },
            "type": "scatterternary"
           }
          ],
          "surface": [
           {
            "colorbar": {
             "outlinewidth": 0,
             "ticks": ""
            },
            "colorscale": [
             [
              0,
              "#0d0887"
             ],
             [
              0.1111111111111111,
              "#46039f"
             ],
             [
              0.2222222222222222,
              "#7201a8"
             ],
             [
              0.3333333333333333,
              "#9c179e"
             ],
             [
              0.4444444444444444,
              "#bd3786"
             ],
             [
              0.5555555555555556,
              "#d8576b"
             ],
             [
              0.6666666666666666,
              "#ed7953"
             ],
             [
              0.7777777777777778,
              "#fb9f3a"
             ],
             [
              0.8888888888888888,
              "#fdca26"
             ],
             [
              1,
              "#f0f921"
             ]
            ],
            "type": "surface"
           }
          ],
          "table": [
           {
            "cells": {
             "fill": {
              "color": "#EBF0F8"
             },
             "line": {
              "color": "white"
             }
            },
            "header": {
             "fill": {
              "color": "#C8D4E3"
             },
             "line": {
              "color": "white"
             }
            },
            "type": "table"
           }
          ]
         },
         "layout": {
          "annotationdefaults": {
           "arrowcolor": "#2a3f5f",
           "arrowhead": 0,
           "arrowwidth": 1
          },
          "autotypenumbers": "strict",
          "coloraxis": {
           "colorbar": {
            "outlinewidth": 0,
            "ticks": ""
           }
          },
          "colorscale": {
           "diverging": [
            [
             0,
             "#8e0152"
            ],
            [
             0.1,
             "#c51b7d"
            ],
            [
             0.2,
             "#de77ae"
            ],
            [
             0.3,
             "#f1b6da"
            ],
            [
             0.4,
             "#fde0ef"
            ],
            [
             0.5,
             "#f7f7f7"
            ],
            [
             0.6,
             "#e6f5d0"
            ],
            [
             0.7,
             "#b8e186"
            ],
            [
             0.8,
             "#7fbc41"
            ],
            [
             0.9,
             "#4d9221"
            ],
            [
             1,
             "#276419"
            ]
           ],
           "sequential": [
            [
             0,
             "#0d0887"
            ],
            [
             0.1111111111111111,
             "#46039f"
            ],
            [
             0.2222222222222222,
             "#7201a8"
            ],
            [
             0.3333333333333333,
             "#9c179e"
            ],
            [
             0.4444444444444444,
             "#bd3786"
            ],
            [
             0.5555555555555556,
             "#d8576b"
            ],
            [
             0.6666666666666666,
             "#ed7953"
            ],
            [
             0.7777777777777778,
             "#fb9f3a"
            ],
            [
             0.8888888888888888,
             "#fdca26"
            ],
            [
             1,
             "#f0f921"
            ]
           ],
           "sequentialminus": [
            [
             0,
             "#0d0887"
            ],
            [
             0.1111111111111111,
             "#46039f"
            ],
            [
             0.2222222222222222,
             "#7201a8"
            ],
            [
             0.3333333333333333,
             "#9c179e"
            ],
            [
             0.4444444444444444,
             "#bd3786"
            ],
            [
             0.5555555555555556,
             "#d8576b"
            ],
            [
             0.6666666666666666,
             "#ed7953"
            ],
            [
             0.7777777777777778,
             "#fb9f3a"
            ],
            [
             0.8888888888888888,
             "#fdca26"
            ],
            [
             1,
             "#f0f921"
            ]
           ]
          },
          "colorway": [
           "#636efa",
           "#EF553B",
           "#00cc96",
           "#ab63fa",
           "#FFA15A",
           "#19d3f3",
           "#FF6692",
           "#B6E880",
           "#FF97FF",
           "#FECB52"
          ],
          "font": {
           "color": "#2a3f5f"
          },
          "geo": {
           "bgcolor": "white",
           "lakecolor": "white",
           "landcolor": "#E5ECF6",
           "showlakes": true,
           "showland": true,
           "subunitcolor": "white"
          },
          "hoverlabel": {
           "align": "left"
          },
          "hovermode": "closest",
          "mapbox": {
           "style": "light"
          },
          "paper_bgcolor": "white",
          "plot_bgcolor": "#E5ECF6",
          "polar": {
           "angularaxis": {
            "gridcolor": "white",
            "linecolor": "white",
            "ticks": ""
           },
           "bgcolor": "#E5ECF6",
           "radialaxis": {
            "gridcolor": "white",
            "linecolor": "white",
            "ticks": ""
           }
          },
          "scene": {
           "xaxis": {
            "backgroundcolor": "#E5ECF6",
            "gridcolor": "white",
            "gridwidth": 2,
            "linecolor": "white",
            "showbackground": true,
            "ticks": "",
            "zerolinecolor": "white"
           },
           "yaxis": {
            "backgroundcolor": "#E5ECF6",
            "gridcolor": "white",
            "gridwidth": 2,
            "linecolor": "white",
            "showbackground": true,
            "ticks": "",
            "zerolinecolor": "white"
           },
           "zaxis": {
            "backgroundcolor": "#E5ECF6",
            "gridcolor": "white",
            "gridwidth": 2,
            "linecolor": "white",
            "showbackground": true,
            "ticks": "",
            "zerolinecolor": "white"
           }
          },
          "shapedefaults": {
           "line": {
            "color": "#2a3f5f"
           }
          },
          "ternary": {
           "aaxis": {
            "gridcolor": "white",
            "linecolor": "white",
            "ticks": ""
           },
           "baxis": {
            "gridcolor": "white",
            "linecolor": "white",
            "ticks": ""
           },
           "bgcolor": "#E5ECF6",
           "caxis": {
            "gridcolor": "white",
            "linecolor": "white",
            "ticks": ""
           }
          },
          "title": {
           "x": 0.05
          },
          "xaxis": {
           "automargin": true,
           "gridcolor": "white",
           "linecolor": "white",
           "ticks": "",
           "title": {
            "standoff": 15
           },
           "zerolinecolor": "white",
           "zerolinewidth": 2
          },
          "yaxis": {
           "automargin": true,
           "gridcolor": "white",
           "linecolor": "white",
           "ticks": "",
           "title": {
            "standoff": 15
           },
           "zerolinecolor": "white",
           "zerolinewidth": 2
          }
         }
        },
        "title": {
         "text": "Wordcloud de Cursos"
        },
        "xaxis": {
         "anchor": "y",
         "domain": [
          0,
          1
         ]
        },
        "yaxis": {
         "anchor": "x",
         "domain": [
          0,
          1
         ]
        }
       }
      }
     },
     "metadata": {},
     "output_type": "display_data"
    }
   ],
   "source": [
    "# Concatena todas as linhas da coluna 'curso' em uma única string\n",
    "text = ' '.join(dados['graduation_course'].str.upper().tolist())\n",
    "\n",
    "from nltk.corpus import stopwords\n",
    "import nltk\n",
    "\n",
    "nltk.download('stopwords')\n",
    "# Define as stopwords (palavras a serem ignoradas)\n",
    "stopwords = stopwords.words('portuguese')\n",
    "\n",
    "from plotly.colors import hex_to_rgb\n",
    "colors_hex = ['#e9fbcf', '#ccf892', '#b0f566', '#95f23a', '#7ae01e']\n",
    "\n",
    "# Cria a WordCloud\n",
    "wordcloud = WordCloud(width=800, height=400, stopwords=stopwords, background_color='white', colormap='Spectral').generate(text)\n",
    "\n",
    "# Cria o gráfico com o Plotly\n",
    "fig = px.imshow(wordcloud)\n",
    "fig.update_layout(title='Wordcloud de Cursos')\n",
    "fig.show()\n"
   ]
  }
 ],
 "metadata": {
  "kernelspec": {
   "display_name": "AutoML",
   "language": "python",
   "name": "python3"
  },
  "language_info": {
   "codemirror_mode": {
    "name": "ipython",
    "version": 3
   },
   "file_extension": ".py",
   "mimetype": "text/x-python",
   "name": "python",
   "nbconvert_exporter": "python",
   "pygments_lexer": "ipython3",
   "version": "3.10.10"
  },
  "orig_nbformat": 4
 },
 "nbformat": 4,
 "nbformat_minor": 2
}
